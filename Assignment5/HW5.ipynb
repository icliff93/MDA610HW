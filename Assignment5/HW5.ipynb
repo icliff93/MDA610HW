{
 "cells": [
  {
   "cell_type": "code",
   "execution_count": 2,
   "metadata": {
    "scrolled": false
   },
   "outputs": [
    {
     "name": "stdout",
     "output_type": "stream",
     "text": [
      "Input grade 0-100: 89\n",
      "B\n"
     ]
    }
   ],
   "source": [
    "#Question 1 \n",
    "\n",
    "grade = int(input(\"Input grade 0-100: \"))\n",
    "if 90 <= grade <= 100:\n",
    "    print(\"A\")\n",
    "elif 80 <= grade <= 89:\n",
    "    print(\"B\")\n",
    "elif 70 <= grade <= 79:\n",
    "    print(\"C\")\n",
    "elif 60 <= grade <= 69:\n",
    "    print(\"D\")\n",
    "else:\n",
    "    print(\"F\")"
   ]
  },
  {
   "cell_type": "code",
   "execution_count": 16,
   "metadata": {},
   "outputs": [
    {
     "data": {
      "text/plain": [
       "[3, 5, 8, 4, 6]"
      ]
     },
     "execution_count": 16,
     "metadata": {},
     "output_type": "execute_result"
    }
   ],
   "source": [
    "#Question 2, avoiding duplicates.\n",
    "\n",
    "lst1 = [3,5,8]\n",
    "lst2 = [4,6,8]\n",
    "lst3 = list(lst1)\n",
    "lst3.extend(x for x in lst2 if x not in lst1)\n",
    "lst3"
   ]
  },
  {
   "cell_type": "code",
   "execution_count": 100,
   "metadata": {},
   "outputs": [
    {
     "name": "stdout",
     "output_type": "stream",
     "text": [
      "1 2 3 4 5 \n",
      "\n",
      "2 4 6 8 10 \n",
      "\n",
      "3 6 9 12 15 \n",
      "\n",
      "4 8 12 16 20 \n",
      "\n"
     ]
    }
   ],
   "source": [
    "#Question 3\n",
    "\n",
    "x = 1\n",
    "for i in range(1):\n",
    "    for n in range(1,5):\n",
    "        for k in range(1,6):\n",
    "            print(x*k*n, end=' ')\n",
    "        print('\\n')"
   ]
  },
  {
   "cell_type": "code",
   "execution_count": 129,
   "metadata": {
    "scrolled": false
   },
   "outputs": [
    {
     "name": "stdout",
     "output_type": "stream",
     "text": [
      "200,202,204,206,208,220,222,224,226,228,240,242,244,246,248,260,262,264,266,268,280,282,284,286,288,400\n"
     ]
    }
   ],
   "source": [
    "#Question 4\n",
    "\n",
    "lst = []\n",
    "for i in range(100, 401):\n",
    "    s = str(i)\n",
    "    if (int(s[0])%2==0) and (int(s[1])%2==0) and (int(s[2])%2==0):\n",
    "        lst.append(s)\n",
    "print( \",\".join(lst))"
   ]
  },
  {
   "cell_type": "code",
   "execution_count": 159,
   "metadata": {},
   "outputs": [
    {
     "name": "stdout",
     "output_type": "stream",
     "text": [
      "{'a': 250, 'b': 320, 'c': 400, 'd': 10, 'e': 60}\n"
     ]
    }
   ],
   "source": [
    "adict = {'a':200, 'b':300, 'c':400}\n",
    "bdict = {'a':50, 'b':20, 'd':10, 'e':60}\n",
    "cdict = {}\n",
    "for key in adict:\n",
    "    if key in bdict:\n",
    "        newkey = adict[key]+bdict[key]\n",
    "    else:\n",
    "        newkey = adict[key]\n",
    "    cdict[key] = newkey\n",
    "for key in bdict:\n",
    "    if key not in cdict:\n",
    "        cdict[key]=bdict[key]\n",
    "print(cdict)"
   ]
  },
  {
   "cell_type": "code",
   "execution_count": null,
   "metadata": {},
   "outputs": [],
   "source": []
  }
 ],
 "metadata": {
  "kernelspec": {
   "display_name": "Python 3",
   "language": "python",
   "name": "python3"
  },
  "language_info": {
   "codemirror_mode": {
    "name": "ipython",
    "version": 3
   },
   "file_extension": ".py",
   "mimetype": "text/x-python",
   "name": "python",
   "nbconvert_exporter": "python",
   "pygments_lexer": "ipython3",
   "version": "3.7.3"
  }
 },
 "nbformat": 4,
 "nbformat_minor": 2
}
