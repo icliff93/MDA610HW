{
 "cells": [
  {
   "cell_type": "code",
   "execution_count": 1,
   "metadata": {},
   "outputs": [
    {
     "data": {
      "text/plain": [
       "\"Character Frequencies in String: {'e': 3, 'l': 1, 'v': 1, 'n': 1}\""
      ]
     },
     "execution_count": 1,
     "metadata": {},
     "output_type": "execute_result"
    }
   ],
   "source": [
    "#Q1: Counting Frequencies of Characters in String function\n",
    "\n",
    "count = {}\n",
    "def freq(string):\n",
    "    for i in string:\n",
    "        if i in count:\n",
    "            count[i] += 1\n",
    "        else:\n",
    "            count[i] = 1\n",
    "    return(\"Character Frequencies in String: \" + str(count))\n",
    "\n",
    "freq(\"eleven\")"
   ]
  },
  {
   "cell_type": "code",
   "execution_count": 2,
   "metadata": {},
   "outputs": [
    {
     "name": "stdout",
     "output_type": "stream",
     "text": [
      "3 41\n"
     ]
    }
   ],
   "source": [
    "#Q2: Min and Max function\n",
    "\n",
    "def min_and_max(lst):\n",
    "        a = min(lst)\n",
    "        b = max(lst)\n",
    "        print(a,b)\n",
    "k = (5,3,9,41,7)\n",
    "min_and_max(k)"
   ]
  },
  {
   "cell_type": "code",
   "execution_count": 139,
   "metadata": {},
   "outputs": [
    {
     "ename": "SyntaxError",
     "evalue": "invalid syntax (<ipython-input-139-7149e4ef9583>, line 8)",
     "output_type": "error",
     "traceback": [
      "\u001b[1;36m  File \u001b[1;32m\"<ipython-input-139-7149e4ef9583>\"\u001b[1;36m, line \u001b[1;32m8\u001b[0m\n\u001b[1;33m    elif type(lst)==str:\u001b[0m\n\u001b[1;37m       ^\u001b[0m\n\u001b[1;31mSyntaxError\u001b[0m\u001b[1;31m:\u001b[0m invalid syntax\n"
     ]
    }
   ],
   "source": [
    "#Trying to get to work for counting characters in strings.\n",
    "\n",
    "def min_and_max(lst):\n",
    "    if type(lst)==int:\n",
    "        a = min(lst)\n",
    "        b = max(lst)\n",
    "        print(a,b)\n",
    "    elif type(lst)==str:\n",
    "        c = min(len(x) for x in lst)\n",
    "        d = max(len(x) for x in lst)\n",
    "        print(c,d)\n",
    "\n",
    "k = (5,3,9,41,7)\n",
    "j = (\"banana\",\"apple\",\"plum\")\n",
    "min_and_max(j)"
   ]
  },
  {
   "cell_type": "code",
   "execution_count": 121,
   "metadata": {},
   "outputs": [
    {
     "name": "stdout",
     "output_type": "stream",
     "text": [
      "[2, 7, 14, 24]\n"
     ]
    }
   ],
   "source": [
    "#Q3: Cumulative Sum function\n",
    "\n",
    "def cum_sum(numbers):\n",
    "    result = []\n",
    "    s=0\n",
    "    for n in numbers:\n",
    "        s += n\n",
    "        result.append(s)\n",
    "    print(result)\n",
    "   \n",
    "lst2 = (2,5,7,10)\n",
    "cum_sum(lst2)"
   ]
  },
  {
   "cell_type": "code",
   "execution_count": 126,
   "metadata": {},
   "outputs": [
    {
     "data": {
      "text/plain": [
       "22"
      ]
     },
     "execution_count": 126,
     "metadata": {},
     "output_type": "execute_result"
    }
   ],
   "source": [
    "#Q4: Dot Product function\n",
    "\n",
    "def dot(m,n):\n",
    "    if len(m) != len(n):\n",
    "        return(0)\n",
    "    return (sum(i[0] * i[1] for i in zip(m,n)))\n",
    "\n",
    "dot1 = (1,5,2,6)\n",
    "dot2 = (0,2,3,1)\n",
    "dot(dot1,dot2)"
   ]
  }
 ],
 "metadata": {
  "kernelspec": {
   "display_name": "Python 3",
   "language": "python",
   "name": "python3"
  },
  "language_info": {
   "codemirror_mode": {
    "name": "ipython",
    "version": 3
   },
   "file_extension": ".py",
   "mimetype": "text/x-python",
   "name": "python",
   "nbconvert_exporter": "python",
   "pygments_lexer": "ipython3",
   "version": "3.7.3"
  }
 },
 "nbformat": 4,
 "nbformat_minor": 2
}
