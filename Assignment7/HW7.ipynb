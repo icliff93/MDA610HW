{
 "cells": [
  {
   "cell_type": "code",
   "execution_count": 63,
   "metadata": {
    "scrolled": true
   },
   "outputs": [
    {
     "data": {
      "text/plain": [
       "{'Mean': 4.15, 'Var': 2.2566666666666664, 'SD': 1.5022205785658331}"
      ]
     },
     "execution_count": 63,
     "metadata": {},
     "output_type": "execute_result"
    }
   ],
   "source": [
    "#Q1\n",
    "\n",
    "def F1(vector):\n",
    "    D1 = [\"Mean\",\"Var\",\"SD\"]\n",
    "    mean = sum(vector)/len(vector)\n",
    "    var = sum((x - mean)**2 for x in vector)/(len(vector)-1)\n",
    "    sd = var**(.5)\n",
    "    D2 = [mean,var,sd]\n",
    "    D = dict(zip(D1,D2))\n",
    "    return(D)\n",
    "           \n",
    "v=[2.5,3.5,4.6,6]\n",
    "\n",
    "F1(v)"
   ]
  },
  {
   "cell_type": "code",
   "execution_count": 101,
   "metadata": {},
   "outputs": [
    {
     "name": "stdout",
     "output_type": "stream",
     "text": [
      "Input numbers (say 'stop' to stop):2\n",
      "Input numbers (say 'stop' to stop):8\n",
      "Input numbers (say 'stop' to stop):3\n",
      "Input numbers (say 'stop' to stop):7\n",
      "Input numbers (say 'stop' to stop):stop\n",
      "Mean is: 5.0\n"
     ]
    }
   ],
   "source": [
    "#Q2\n",
    "\n",
    "def Q2():\n",
    "    number_list = []\n",
    "    while 1:\n",
    "        user = input(\"Input numbers (say 'stop' to stop):\")\n",
    "        if user == \"stop\":\n",
    "            break\n",
    "        number_list.append(int(user))\n",
    "    print(\"Mean is: \" + str(sum(number_list)/len(number_list)))\n",
    "    \n",
    "Q2()"
   ]
  }
 ],
 "metadata": {
  "kernelspec": {
   "display_name": "Python 3",
   "language": "python",
   "name": "python3"
  },
  "language_info": {
   "codemirror_mode": {
    "name": "ipython",
    "version": 3
   },
   "file_extension": ".py",
   "mimetype": "text/x-python",
   "name": "python",
   "nbconvert_exporter": "python",
   "pygments_lexer": "ipython3",
   "version": "3.7.3"
  }
 },
 "nbformat": 4,
 "nbformat_minor": 2
}
