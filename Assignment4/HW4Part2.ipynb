{
 "cells": [
  {
   "cell_type": "code",
   "execution_count": 1,
   "metadata": {},
   "outputs": [
    {
     "name": "stdout",
     "output_type": "stream",
     "text": [
      "Input string here\they\n",
      "yeh\n"
     ]
    }
   ],
   "source": [
    "#Input string, output reverse copy of string.\n",
    "\n",
    "string = input(\"Input string here\\t\")\n",
    "print(string[::-1])"
   ]
  },
  {
   "cell_type": "code",
   "execution_count": 2,
   "metadata": {},
   "outputs": [
    {
     "name": "stdout",
     "output_type": "stream",
     "text": [
      "Add what number?\t4\n",
      "[1, 2, 3, 4]\n",
      "The mean is 2.5\n"
     ]
    }
   ],
   "source": [
    "import statistics\n",
    "u = [1,2,3]\n",
    "addnumber = int(input(\"Add what number?\\t\"))\n",
    "u.append(addnumber)\n",
    "print(u)\n",
    "print(\"The mean is {}\" .format(statistics.mean(u)))"
   ]
  },
  {
   "cell_type": "code",
   "execution_count": 3,
   "metadata": {},
   "outputs": [
    {
     "name": "stdout",
     "output_type": "stream",
     "text": [
      "What is the radius?\t4\n",
      "The area is 12.566370614359172\n"
     ]
    }
   ],
   "source": [
    "import math\n",
    "radius = int(input(\"What is the radius?\\t\"))\n",
    "print(\"The area is {}\" .format(math.pi*radius))"
   ]
  },
  {
   "cell_type": "code",
   "execution_count": 38,
   "metadata": {},
   "outputs": [
    {
     "name": "stdout",
     "output_type": "stream",
     "text": [
      "Input number\t4\n",
      "Let y = e^4\n",
      "The natural log of y is 4\n",
      "The common log of y is 1.7371779276130073\n"
     ]
    }
   ],
   "source": [
    "import math\n",
    "x = int(input(\"Input number\\t\"))\n",
    "y = math.exp(x)  #y = e^x\n",
    "print(\"Let y = e^{}\" .format(x))\n",
    "print(\"The natural log of y is {}\" .format(x))\n",
    "print(\"The common log of y is {}\" .format(math.log10(y)))"
   ]
  }
 ],
 "metadata": {
  "kernelspec": {
   "display_name": "Python 3",
   "language": "python",
   "name": "python3"
  }
 },
 "nbformat": 4,
 "nbformat_minor": 2
}
